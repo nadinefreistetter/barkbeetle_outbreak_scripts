{
 "cells": [
  {
   "cell_type": "code",
   "execution_count": null,
   "id": "a856c33e",
   "metadata": {},
   "outputs": [],
   "source": [
    "import numpy as np\n",
    "import pandas as pd\n",
    "import matplotlib as plt\n",
    "import datetime as dt\n",
    "import os\n",
    "import re"
   ]
  },
  {
   "cell_type": "code",
   "execution_count": null,
   "id": "3dcbe7ff",
   "metadata": {},
   "outputs": [],
   "source": [
    "# All directories\n",
    "root       = \"C:/Users/freiste/OneDrive - Ilmatieteen laitos/Documents/IIASA YSSP 2023\"\n",
    "this_dir   =  os.getcwd()\n",
    "\n",
    "input_dir  = f\"{root}/01 - Scripts/\" # to save space, not all data might be there anymore\n",
    "output_dir = f\"{root}/...\""
   ]
  },
  {
   "cell_type": "markdown",
   "id": "5ed99f9d",
   "metadata": {},
   "source": [
    "#### Define:"
   ]
  },
  {
   "cell_type": "code",
   "execution_count": null,
   "id": "46535f17",
   "metadata": {},
   "outputs": [],
   "source": [
    "p_base = 0.02\n",
    "windthrown = False"
   ]
  },
  {
   "cell_type": "code",
   "execution_count": null,
   "id": "d6529cbb",
   "metadata": {},
   "outputs": [],
   "source": [
    "# Outbreak probability, iLand\n",
    "\n",
    "def outbreak_probability_iLand(p_base, windthrown=False):\n",
    "    \n",
    "    # Load precipitation JJA script here:\n",
    "    # ... /Precipitation_JJA.ipynb\n",
    "    precip_anomaly_JJA = precip_JJA(bm_lat, bm_lon, '2019') / precip_JJA(bm_lat, bm_lon, '1980', '2000')\n",
    "\n",
    "    # rC = Climate sensitive modifier of outbreak probability\n",
    "    rC = pow(precip_anomaly_JJA, -0.9609)\n",
    "\n",
    "    odds_outbreak = p_base / (1 - p_base) * rC\n",
    "\n",
    "    p_outbreak    = odds_outbreak / (1 + odds_outbreak)\n",
    "\n",
    "    if windthrown :\n",
    "        p_outbreak += 0.3\n",
    "\n",
    "    print(f'Outbreak probability: {p_outbreak*100 : .2f}%')\n",
    "    \n",
    "    return p_outbreak\n"
   ]
  },
  {
   "cell_type": "code",
   "execution_count": null,
   "id": "351a8c7f",
   "metadata": {},
   "outputs": [],
   "source": []
  },
  {
   "cell_type": "code",
   "execution_count": null,
   "id": "f282f813",
   "metadata": {},
   "outputs": [],
   "source": []
  }
 ],
 "metadata": {
  "kernelspec": {
   "display_name": "Python 3 (ipykernel)",
   "language": "python",
   "name": "python3"
  },
  "language_info": {
   "codemirror_mode": {
    "name": "ipython",
    "version": 3
   },
   "file_extension": ".py",
   "mimetype": "text/x-python",
   "name": "python",
   "nbconvert_exporter": "python",
   "pygments_lexer": "ipython3",
   "version": "3.8.5"
  }
 },
 "nbformat": 4,
 "nbformat_minor": 5
}
