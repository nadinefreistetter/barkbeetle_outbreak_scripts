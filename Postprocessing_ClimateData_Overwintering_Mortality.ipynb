{
 "cells": [
  {
   "cell_type": "markdown",
   "id": "e576888b",
   "metadata": {},
   "source": [
    "# Frost Days & Mortality Days November - March"
   ]
  },
  {
   "cell_type": "code",
   "execution_count": null,
   "id": "b0c4195a",
   "metadata": {},
   "outputs": [],
   "source": [
    "import numpy as np\n",
    "import pandas as pd\n",
    "import matplotlib as plt\n",
    "import datetime as dt\n",
    "import os\n",
    "import re"
   ]
  },
  {
   "cell_type": "code",
   "execution_count": null,
   "id": "c34a85b2",
   "metadata": {},
   "outputs": [],
   "source": [
    "# All directories\n",
    "root       = \"C:/Users/freiste/OneDrive - Ilmatieteen laitos/Documents/IIASA YSSP 2023\"\n",
    "this_dir   =  os.getcwd()\n",
    "\n",
    "input_dir  = f\"{root}/02 - Data/EU/Copernicus_E-OBS_Weather_Original\" # to save space, not all data might be there anymore\n",
    "output_dir = f\"{root}/02 - Data/EU/Copernicus_E-OBS_Weather_Postprocessed\""
   ]
  },
  {
   "cell_type": "code",
   "execution_count": null,
   "id": "3ceb9695",
   "metadata": {},
   "outputs": [],
   "source": []
  },
  {
   "cell_type": "code",
   "execution_count": null,
   "id": "3dbab72d",
   "metadata": {},
   "outputs": [],
   "source": []
  },
  {
   "cell_type": "code",
   "execution_count": null,
   "id": "7fec7772",
   "metadata": {},
   "outputs": [],
   "source": [
    "def frost_mortality_days(yr):\n",
    "    \n",
    "    if 1980 <= yr <= 1994:\n",
    "        strtyr = 1980\n",
    "        endyr  = 1994\n",
    "    elif 1995 <= yr <= 2010:\n",
    "        strtyr = 1995\n",
    "        endyr  = 2010\n",
    "    elif 2011 <= yr <= 2022:\n",
    "        strtyr = 2011\n",
    "        endyr  = 2022\n",
    "    else:\n",
    "        print('Error, year unknown.')\n",
    "    \n",
    "    tmin = xr.open_dataset(f\"{input_dir}/tempmin_daily_{strtyr}-{endyr}_0.25deg.nc\")\n",
    "    tmax = xr.open_dataset(f\"{input_dir}/tempmax_daily_{strtyr}-{endyr}_0.25deg.nc\")\n",
    "    tmin.close()\n",
    "    tmax.close()\n",
    "\n",
    "\n",
    "    # Index of the overwintering period Nov-Mar\n",
    "    if y == 0:\n",
    "        idx1 = tmin.indexes[\"time\"].get_loc(f\"{yr}-01-01T00:00:00\",  method=\"nearest\")\n",
    "\n",
    "    else:\n",
    "        idx1 = tmin.indexes[\"time\"].get_loc(f\"{yr-1}-11-01T00:00:00\",  method=\"nearest\")\n",
    "\n",
    "    idx2 = tmin.indexes[\"time\"].get_loc(f\"{yr}-03-31T00:00:00\",  method=\"nearest\")\n",
    "\n",
    "    # Filter out overwintering period temperatures\n",
    "    tmin = tmin.tn.isel(time=slice(idx1, idx2+1))\n",
    "    tmax = tmax.tx.isel(time=slice(idx1, idx2+1))\n",
    "\n",
    "\n",
    "    # frost and mortality days\n",
    "    frostdays     = tmax.where(tmax <= -1).count('time')\n",
    "    frostdays     = frostdays.where(frostdays>14)   \n",
    "\n",
    "    mortalitydays = tmin.where(tmin <= -15).count('time')\n",
    "    mortalitydays = mortalitydays.where(mortalitydays>0)\n",
    "\n",
    "    frostdays     = (frostdays-mortalitydays )\n",
    "    mortalitydays = mortalitydays.where(mortalitydays>30)\n",
    "    \n",
    "    result = frostdays.to_dataset(name='frostdays')\n",
    "    result['overkilldays'] = mortalitydays\n",
    "    result = result.assign_coords({'year' : yr})\n",
    "\n",
    "    return result\n"
   ]
  },
  {
   "cell_type": "code",
   "execution_count": null,
   "id": "019ac24b",
   "metadata": {},
   "outputs": [],
   "source": [
    "yrs = range(1980,2023)\n",
    "\n",
    "for y, yr in enumerate(yrs):\n",
    "    \n",
    "    if y==0:\n",
    "        overwintering_mortality_days = frost_mortality_days(yr)\n",
    "    else:\n",
    "        overwintering_mortality_days = xr.concat([overwintering_mortality_days, frost_mortality_days(yr)], dim=\"year\")\n",
    "\n",
    "        \n",
    "overwintering_mortality_days = \\\n",
    "overwintering_mortality_days.assign_attrs({'frostdays'    : 'Days on which maximum ground temperature was below or equal to -1 degrees Celsius. Grid points are only considered if there were a minimum of 14 frost days during the cold season Nov-Mar. We assume 50% overwintering mortality for bark beetles.',\n",
    "                                           'overkilldays' : 'Days on which minimum ground temperature was below or equal to -15 degrees Celsius. Grid points are only considered if there were a minimum of 30 overkill days during the cold season Nov-Mar. We assume 100% overwintering mortality for bark beetles.',\n",
    "                                           'background mortality': 'For overwintering in warmer grid points, we assume the background mortality of 20%.'})\n",
    "\n",
    "\n",
    "# Export frost days data\n",
    "overwintering_mortality_days.to_netcdf(f\"{output_dir}/overwintering_mortality_europe_1980-2022_0.25deg.nc\")\n",
    "overwintering_mortality_days\n",
    "\n",
    "# Now gotta select lat and long from it"
   ]
  },
  {
   "cell_type": "code",
   "execution_count": null,
   "id": "a982d6ea",
   "metadata": {},
   "outputs": [],
   "source": [
    "# Beetle overwintering mortality in iLand, fd = frost days\n",
    "M = 1−exp^(-0.1005)*fd"
   ]
  },
  {
   "cell_type": "code",
   "execution_count": null,
   "id": "06d0720b",
   "metadata": {},
   "outputs": [],
   "source": []
  },
  {
   "cell_type": "code",
   "execution_count": null,
   "id": "7d3544ee",
   "metadata": {},
   "outputs": [],
   "source": []
  }
 ],
 "metadata": {
  "kernelspec": {
   "display_name": "Python 3 (ipykernel)",
   "language": "python",
   "name": "python3"
  },
  "language_info": {
   "codemirror_mode": {
    "name": "ipython",
    "version": 3
   },
   "file_extension": ".py",
   "mimetype": "text/x-python",
   "name": "python",
   "nbconvert_exporter": "python",
   "pygments_lexer": "ipython3",
   "version": "3.8.5"
  }
 },
 "nbformat": 4,
 "nbformat_minor": 5
}
