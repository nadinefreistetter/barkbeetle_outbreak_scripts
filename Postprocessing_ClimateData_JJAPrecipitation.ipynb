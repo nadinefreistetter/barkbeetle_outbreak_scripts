{
 "cells": [
  {
   "cell_type": "code",
   "execution_count": null,
   "id": "e8f618b1",
   "metadata": {},
   "outputs": [],
   "source": [
    "def precip_JJA(lat, lon, year_start, year_end=None):\n",
    "    \n",
    "    precip_longterm = xr.open_dataset(f\"{obs_path}/precipitation_monthlymean_europe_1980-2022_0.25deg.nc\")\n",
    "    precip_longterm.close()\n",
    "    \n",
    "    # select correct coordinates\n",
    "    precip_longterm = precip_longterm.sel(latitude=lat, longitude=lon, method='nearest')\n",
    "    \n",
    "    \n",
    "    # select right year/period\n",
    "    if year_end:\n",
    "        try:\n",
    "            precip_longterm = precip_longterm.sel(time=slice(year_start, year_end))\n",
    "        except:\n",
    "            print(\"Does not recognize year of period end. \")\n",
    "            return\n",
    "    \n",
    "    else:\n",
    "        precip_longterm = precip_longterm.sel(time=year_start)\n",
    "    \n",
    "    \n",
    "    # select JJA\n",
    "    precip_longterm = precip_longterm.where(precip_longterm.time.dt.month.isin([6,7,8]), drop=True)\n",
    "    \n",
    "    # make yearly sum of precip in JJA and then average over the whole period\n",
    "    precip_longterm = precip_longterm.resample(time='1Y').sum().mean(dim='time')\n",
    "    \n",
    "    # extract only the float value\n",
    "    return float(precip_longterm.rr.values)\n",
    "    "
   ]
  }
 ],
 "metadata": {
  "kernelspec": {
   "display_name": "Python 3 (ipykernel)",
   "language": "python",
   "name": "python3"
  },
  "language_info": {
   "codemirror_mode": {
    "name": "ipython",
    "version": 3
   },
   "file_extension": ".py",
   "mimetype": "text/x-python",
   "name": "python",
   "nbconvert_exporter": "python",
   "pygments_lexer": "ipython3",
   "version": "3.8.5"
  }
 },
 "nbformat": 4,
 "nbformat_minor": 5
}
