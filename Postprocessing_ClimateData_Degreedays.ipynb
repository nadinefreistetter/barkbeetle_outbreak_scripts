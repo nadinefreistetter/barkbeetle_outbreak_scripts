{
 "cells": [
  {
   "cell_type": "markdown",
   "id": "ac411cb2",
   "metadata": {},
   "source": [
    "# Ordinary Degreedays between April and October"
   ]
  },
  {
   "cell_type": "code",
   "execution_count": null,
   "id": "e374023a",
   "metadata": {},
   "outputs": [],
   "source": [
    "import numpy as np\n",
    "import pandas as pd\n",
    "import matplotlib as plt\n",
    "import datetime as dt\n",
    "import os\n",
    "import re"
   ]
  },
  {
   "cell_type": "code",
   "execution_count": null,
   "id": "5f52f35f",
   "metadata": {},
   "outputs": [],
   "source": [
    "# All directories\n",
    "root       = \"C:/Users/freiste/OneDrive - Ilmatieteen laitos/Documents/IIASA YSSP 2023\"\n",
    "this_dir   =  os.getcwd()\n",
    "\n",
    "input_dir  = f\"{root}/02 - Data/EU/Copernicus_E-OBS_Weather_Original\" # to save space, not all data might be there anymore\n",
    "output_dir = f\"{root}/02 - Data/EU/Copernicus_E-OBS_Weather_Postprocessed\""
   ]
  },
  {
   "cell_type": "markdown",
   "id": "4b8a9172",
   "metadata": {},
   "source": [
    "### Methods"
   ]
  },
  {
   "cell_type": "code",
   "execution_count": null,
   "id": "946aeaab",
   "metadata": {},
   "outputs": [],
   "source": [
    "def degreedays(yr):\n",
    "    \n",
    "    if 1980 <= yr <= 1994:\n",
    "        strtyr, endyr = 1980, 1994\n",
    "    elif 1995 <= yr <= 2010:\n",
    "        strtyr, endyr = 1995, 2010\n",
    "    elif 2011 <= yr <= 2022:\n",
    "        strtyr, endyr = 2011, 2022\n",
    "    else:\n",
    "        print('Error, year unknown.')\n",
    "    \n",
    "    # Open Data\n",
    "    t = xr.open_dataset(f\"{obs_path}/tempavg_dailymean_{strtyr}-{endyr}_0.25deg.nc\")\n",
    "    t.close()\n",
    "    \n",
    "    \n",
    "    \n",
    "    # Filter out bark beetle season\n",
    "    idx1 = t.indexes[\"time\"].get_loc(f\"{yr}-04-01T00:00:00\",  method=\"nearest\")\n",
    "    idx2 = t.indexes[\"time\"].get_loc(f\"{yr}-10-31T00:00:00\",  method=\"nearest\")\n",
    "    \n",
    "    t = t.tg.isel(time=slice(idx1, idx2+1))\n",
    "    t = t.sum('time')\n",
    "    \n",
    "    \n",
    "    t = t.assign_coords({'year' : yr})\n",
    "    t = t.where(t > 0)\n",
    "    \n",
    "    return t.to_dataset(name='degreedays')\n"
   ]
  },
  {
   "cell_type": "markdown",
   "id": "df127ca7",
   "metadata": {},
   "source": [
    "### Execution"
   ]
  },
  {
   "cell_type": "code",
   "execution_count": null,
   "id": "2c451b5c",
   "metadata": {},
   "outputs": [],
   "source": [
    "yrs = range(1980,2023)\n",
    "\n",
    "for y, yr in enumerate(yrs):\n",
    "    \n",
    "    if y==0:\n",
    "        cumdegreedays = degreedays(yr)\n",
    "    else:\n",
    "        cumdegreedays = xr.concat([cumdegreedays, degreedays(yr)], dim=\"year\")\n",
    "\n",
    "        \n",
    "cumdegreedays = \\\n",
    "cumdegreedays.assign_attrs({'cumulative degree days' : 'Cumulative sum of daily average temperature between April 1st and October 31st'})\n",
    "\n",
    "# Export \n",
    "cumdegreedays.to_netcdf(f\"{obs_path}/cumulative_degreedays_europe_1980-2022_0.25deg.nc\")\n",
    "cumdegreedays"
   ]
  },
  {
   "cell_type": "code",
   "execution_count": null,
   "id": "f9fe58fc",
   "metadata": {},
   "outputs": [],
   "source": []
  },
  {
   "cell_type": "code",
   "execution_count": null,
   "id": "318c4ad2",
   "metadata": {},
   "outputs": [],
   "source": []
  }
 ],
 "metadata": {
  "kernelspec": {
   "display_name": "Python 3 (ipykernel)",
   "language": "python",
   "name": "python3"
  },
  "language_info": {
   "codemirror_mode": {
    "name": "ipython",
    "version": 3
   },
   "file_extension": ".py",
   "mimetype": "text/x-python",
   "name": "python",
   "nbconvert_exporter": "python",
   "pygments_lexer": "ipython3",
   "version": "3.8.5"
  }
 },
 "nbformat": 4,
 "nbformat_minor": 5
}
