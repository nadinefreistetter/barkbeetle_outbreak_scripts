{
 "cells": [
  {
   "cell_type": "code",
   "execution_count": null,
   "id": "3a146e9f",
   "metadata": {},
   "outputs": [],
   "source": [
    "# Mean bark temperature\n",
    "# rad = solar radiaton, Tavg = average air Temperature\n",
    "mean_barkT = lambda rad, Tavg: -0.173 + 0.0008518 * rad + 1.054 * Tavg"
   ]
  },
  {
   "cell_type": "code",
   "execution_count": null,
   "id": "52d760de",
   "metadata": {},
   "outputs": [],
   "source": [
    "# Maximum bark temperature\n",
    "max_barkT  = lambda rad, Tavg: 1.656 + 0.002955 * rad + 0.534 * Tavg + 0.01884 * Tavg^2"
   ]
  }
 ],
 "metadata": {
  "kernelspec": {
   "display_name": "Python 3 (ipykernel)",
   "language": "python",
   "name": "python3"
  },
  "language_info": {
   "codemirror_mode": {
    "name": "ipython",
    "version": 3
   },
   "file_extension": ".py",
   "mimetype": "text/x-python",
   "name": "python",
   "nbconvert_exporter": "python",
   "pygments_lexer": "ipython3",
   "version": "3.8.5"
  }
 },
 "nbformat": 4,
 "nbformat_minor": 5
}
