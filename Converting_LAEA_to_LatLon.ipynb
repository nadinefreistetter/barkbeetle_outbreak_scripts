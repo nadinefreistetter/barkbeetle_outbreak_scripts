{
 "cells": [
  {
   "cell_type": "markdown",
   "metadata": {},
   "source": [
    "##### Convert from the LAEA projected coordinate system (EPSG 3857) to a geographic coordinate system (EPSG 4326)"
   ]
  },
  {
   "cell_type": "code",
   "execution_count": 1,
   "metadata": {},
   "outputs": [],
   "source": [
    "import os\n",
    "import regex as re\n",
    "import numpy as np\n",
    "import pandas as pd\n",
    "import xarray as xr\n",
    "import rioxarray as rio"
   ]
  },
  {
   "cell_type": "code",
   "execution_count": 2,
   "metadata": {},
   "outputs": [],
   "source": [
    "# get all certain-type files inside a specific folder\n",
    "\n",
    "def show_all_files(input_dir, typ='csv'):\n",
    "\n",
    "    regexp = re.compile(fr\".{typ}\")\n",
    "    files  = [path.name for path in os.scandir(input_dir) if path.is_file() if regexp.search(path.name)]\n",
    "    \n",
    "    return files\n"
   ]
  },
  {
   "cell_type": "code",
   "execution_count": 3,
   "metadata": {},
   "outputs": [],
   "source": [
    "# Directories\n",
    "\n",
    "root = 'C:/Users/freiste/OneDrive - Ilmatieteen laitos/Documents/IIASA YSSP 2023/02 - Data/EU/BOKU_ImprovedForestCharacteristics'\n",
    "\n",
    "subfolders = [\n",
    "    \"Age\",\n",
    "    \"Alive_Tree_Carbon\",\n",
    "    \"Basal_Area\",\n",
    "    \"Biomass\",\n",
    "    \"Diameter\",\n",
    "    \"Height\",\n",
    "    \"Stand_Density_Index\",\n",
    "    \"Stem_Number\",\n",
    "    \"Tree_Species_Group\",\n",
    "    \"Volume\"\n",
    "    ]\n",
    "\n",
    "\n"
   ]
  },
  {
   "cell_type": "code",
   "execution_count": 4,
   "metadata": {},
   "outputs": [],
   "source": [
    "for sub in subfolders:\n",
    "    \n",
    "    folder = f'{root}/{sub}'\n",
    "    \n",
    "    files = show_all_files(folder, typ='nc')\n",
    "    \n",
    "    for file in files:\n",
    "        \n",
    "        FSDS = xr.open_dataset(f\"{folder}/{file}\")\n",
    "        FSDS.close()\n",
    "        \n",
    "        FSDS.rio.write_crs('epsg:3857', inplace=True)\n",
    "        FSDS_proj = FSDS.rio.reproject('epsg:4326')\n",
    "        \n",
    "        \n",
    "        vars = [v for v in FSDS_proj.data_vars]\n",
    "        for var in vars:\n",
    "            try:\n",
    "                del FSDS_proj[var].attrs['grid_mapping']\n",
    "            except:pass\n",
    "        \n",
    "        FSDS = FSDS.rename({'x' : 'latitude', 'y' : 'longitude'})\n",
    "        \n",
    "        try:\n",
    "            FSDS_proj.to_netcdf(f\"{folder}/{file[:-3]}_EPSG4326.nc\")\n",
    "        except:\n",
    "            print(f'ERROR with exporting file {file}')\n",
    "        "
   ]
  },
  {
   "cell_type": "code",
   "execution_count": null,
   "metadata": {},
   "outputs": [],
   "source": []
  },
  {
   "cell_type": "code",
   "execution_count": null,
   "metadata": {},
   "outputs": [],
   "source": []
  },
  {
   "cell_type": "code",
   "execution_count": null,
   "metadata": {},
   "outputs": [],
   "source": [
    "folder = 'C:/Users/freiste/OneDrive - Ilmatieteen laitos/Documents/IIASA YSSP 2023/02 - Data/EU/BOKU_ImprovedForestCharacteristics/Diameter'\n",
    "file   = 'dbh_EPSG4326'\n",
    "test = xr.open_dataset(f\"{folder}/{file}.nc\")\n",
    "test.close()"
   ]
  },
  {
   "cell_type": "code",
   "execution_count": null,
   "metadata": {},
   "outputs": [],
   "source": [
    "test.Band1.plot()"
   ]
  },
  {
   "cell_type": "code",
   "execution_count": null,
   "metadata": {},
   "outputs": [],
   "source": []
  },
  {
   "cell_type": "code",
   "execution_count": null,
   "metadata": {},
   "outputs": [],
   "source": []
  }
 ],
 "metadata": {
  "kernelspec": {
   "display_name": "base",
   "language": "python",
   "name": "python3"
  },
  "language_info": {
   "codemirror_mode": {
    "name": "ipython",
    "version": 3
   },
   "file_extension": ".py",
   "mimetype": "text/x-python",
   "name": "python",
   "nbconvert_exporter": "python",
   "pygments_lexer": "ipython3",
   "version": "3.11.4"
  },
  "orig_nbformat": 4
 },
 "nbformat": 4,
 "nbformat_minor": 2
}
