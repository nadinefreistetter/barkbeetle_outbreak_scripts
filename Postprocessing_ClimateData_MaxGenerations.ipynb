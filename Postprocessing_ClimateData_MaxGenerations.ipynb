{
 "cells": [
  {
   "cell_type": "markdown",
   "id": "ea86c5d1",
   "metadata": {},
   "source": [
    "## Maximum number of generations during one brooding season"
   ]
  },
  {
   "cell_type": "code",
   "execution_count": 4,
   "id": "81a06137",
   "metadata": {},
   "outputs": [],
   "source": [
    "import numpy as np\n",
    "import pandas as pd\n",
    "import matplotlib as plt\n",
    "import datetime as dt\n",
    "import os\n",
    "import re\n",
    "import xarray as xr"
   ]
  },
  {
   "cell_type": "code",
   "execution_count": 5,
   "id": "4d82aec4",
   "metadata": {},
   "outputs": [],
   "source": [
    "# All directories\n",
    "root       = \"C:/Users/freiste/OneDrive - Ilmatieteen laitos/Documents/IIASA YSSP 2023\"\n",
    "this_dir   =  os.getcwd()\n",
    "\n",
    "input_dir  = f\"{root}/02 - Data/EU/Copernicus_E-OBS_Weather_Original\" # to save space, not all data might be there anymore\n",
    "output_dir = f\"{root}/02 - Data/EU/Copernicus_E-OBS_Weather_Postprocessed\""
   ]
  },
  {
   "cell_type": "code",
   "execution_count": null,
   "id": "ae030092",
   "metadata": {},
   "outputs": [],
   "source": []
  },
  {
   "cell_type": "code",
   "execution_count": null,
   "id": "5a9d4ba6",
   "metadata": {},
   "outputs": [],
   "source": []
  },
  {
   "cell_type": "code",
   "execution_count": 6,
   "id": "f806c794",
   "metadata": {},
   "outputs": [
    {
     "name": "stderr",
     "output_type": "stream",
     "text": [
      "C:\\Users\\freiste\\Anaconda3\\envs\\Zeus\\lib\\site-packages\\xarray\\coding\\times.py:192: RuntimeWarning: invalid value encountered in cast\n",
      "  flat_num_dates_ns_int = (flat_num_dates * _NS_PER_TIME_DELTA[delta]).astype(\n"
     ]
    }
   ],
   "source": [
    "cumdegreedays = xr.open_dataset(f\"{output_dir}/cumulative_relevant_degreedays_europe_1980-2022_0.25deg.nc\")"
   ]
  },
  {
   "cell_type": "code",
   "execution_count": 9,
   "id": "cbf90ad2",
   "metadata": {},
   "outputs": [
    {
     "name": "stdout",
     "output_type": "stream",
     "text": [
      "Export successful.\n"
     ]
    }
   ],
   "source": [
    "# Number of maximum generations\n",
    "possgen = cumdegreedays.relevant_degreedays/557\n",
    "possgen = possgen.to_dataset(name='max_generations')\n",
    "possgen = possgen.assign_attrs({'max generations' : \n",
    "                                'Maximum number of generations that bark beetle can produce in one brooding season Apr-Oct. Calculated by cumulative_degree_days divided by 557 (literature value). The number of generations is further reduced by host availability, temperature (ergo also climate change), forest management, pathogens & predation, sex ratio, overwintering success, elevation, wind, amount of swarm days (temperature dependent), among other minor contributors.'})\n",
    "possgen.to_netcdf(f\"{output_dir}/max_bb_generations_europe_1980-2022_0.25deg.nc\")\n",
    "print('Export successful.')"
   ]
  },
  {
   "cell_type": "code",
   "execution_count": null,
   "id": "c64ec146",
   "metadata": {},
   "outputs": [],
   "source": []
  },
  {
   "cell_type": "code",
   "execution_count": null,
   "id": "59c170d0",
   "metadata": {},
   "outputs": [],
   "source": []
  }
 ],
 "metadata": {
  "kernelspec": {
   "display_name": "Python 3 (ipykernel)",
   "language": "python",
   "name": "python3"
  },
  "language_info": {
   "codemirror_mode": {
    "name": "ipython",
    "version": 3
   },
   "file_extension": ".py",
   "mimetype": "text/x-python",
   "name": "python",
   "nbconvert_exporter": "python",
   "pygments_lexer": "ipython3",
   "version": "3.8.5"
  }
 },
 "nbformat": 4,
 "nbformat_minor": 5
}
