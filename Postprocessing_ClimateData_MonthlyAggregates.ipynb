{
 "cells": [
  {
   "cell_type": "markdown",
   "id": "92e35197",
   "metadata": {},
   "source": [
    "# Calculating simple monthly means of some weather data\n",
    "Original Data: Daily mean ensemble 1980-2022 in 0.25deg resolution from Copernicus.eu, E-OBS dataset"
   ]
  },
  {
   "cell_type": "markdown",
   "id": "f339c5b2",
   "metadata": {},
   "source": [
    "## Presettings"
   ]
  },
  {
   "cell_type": "code",
   "execution_count": null,
   "id": "52d35d51",
   "metadata": {},
   "outputs": [],
   "source": [
    "import numpy as np\n",
    "import pandas as pd\n",
    "import matplotlib.pyplot as plt\n",
    "import datetime as dt\n",
    "import os\n",
    "import re\n",
    "\n",
    "import xarray as xr"
   ]
  },
  {
   "cell_type": "code",
   "execution_count": null,
   "id": "baf02fbf",
   "metadata": {},
   "outputs": [],
   "source": [
    "# All directories\n",
    "root       = \"C:/Users/freiste/OneDrive - Ilmatieteen laitos/Documents/IIASA YSSP 2023\"\n",
    "this_dir   =  os.getcwd()\n",
    "\n",
    "input_dir  = f\"{root}/02 - Data/EU/Copernicus_E-OBS_Weather_Original\" # to save space, not all data might be there anymore\n",
    "output_dir = f\"{root}/02 - Data/EU/Copernicus_E-OBS_Weather_Postprocessed\""
   ]
  },
  {
   "cell_type": "code",
   "execution_count": null,
   "id": "d2b39e72",
   "metadata": {},
   "outputs": [],
   "source": []
  },
  {
   "cell_type": "markdown",
   "id": "5e512763",
   "metadata": {},
   "source": [
    "## Methods"
   ]
  },
  {
   "cell_type": "code",
   "execution_count": null,
   "id": "35a8973f",
   "metadata": {},
   "outputs": [],
   "source": [
    "def import_aggr_and_concat_years(path, files, aggregate='mean'):\n",
    "    \n",
    "    for f, file in enumerate(files): \n",
    "\n",
    "        # Import file\n",
    "        data_temp = xr.open_dataset(f\"{path}/{file}\")\n",
    "        \n",
    "        \n",
    "        # Calc monthly mean to save memory\n",
    "        var = list(data_temp.data_vars)[0]\n",
    "        if aggregate=='mean':\n",
    "            data_temp = data_temp[var].resample(time='1M').mean()\n",
    "            \n",
    "        elif aggregate=='sum':\n",
    "            data_temp = data_temp[var].resample(time='1M').sum(dim='time')\n",
    "        \n",
    "\n",
    "        # Concatenate all the years into one variable\n",
    "        if f==0:\n",
    "            data = data_temp\n",
    "        else:\n",
    "            data = xr.concat((data, data_temp), dim='time')\n",
    "\n",
    "        data_temp.close()\n",
    "\n",
    "    return data\n"
   ]
  },
  {
   "cell_type": "code",
   "execution_count": null,
   "id": "8ea5e4e1",
   "metadata": {},
   "outputs": [],
   "source": [
    "def workflow(input_file_identifier, input_dir, output_filename, aggregate='mean'):\n",
    "    \n",
    "    next_regex = re.compile(fr'{input_file_identifier}')\n",
    "    next_files = [path.name for path in os.scandir(input_dir) if path.is_file() if next_regex.search(path.name)]\n",
    "\n",
    "    next_data  = import_aggr_and_concat_years(input_dir, next_files, aggregate=aggregate)\n",
    "\n",
    "    next_data.to_netcdf(f\"{output_dir}/{output_filename}\")\n",
    "    \n",
    "    \n",
    "    return 'Export successful.'\n",
    "    "
   ]
  },
  {
   "cell_type": "markdown",
   "id": "081d573b",
   "metadata": {},
   "source": [
    "# Execution"
   ]
  },
  {
   "cell_type": "code",
   "execution_count": null,
   "id": "18c5b0ed",
   "metadata": {},
   "outputs": [],
   "source": [
    "workflow('windspeed_dailymean'    , input_dir, 'windspeed_monthlymean_europe_1980-2022_0.25deg.nc')\n",
    "workflow('humidity_dailymean'     , input_dir, 'humidity_monthlymean_europe_1980-2022_0.25deg.nc')\n",
    "workflow('radiation_dailymean'    , input_dir, 'radiation_monthlymean_europe_1980-2022_0.25deg.nc')\n",
    "workflow('precipitation_dailymean', input_dir, 'precipitation_monthlymean_europe_1980-2022_0.25deg.nc')\n"
   ]
  },
  {
   "cell_type": "code",
   "execution_count": null,
   "id": "93c5b604",
   "metadata": {},
   "outputs": [],
   "source": [
    "workflow('tempavg_dailymean', input_dir, 'tempavg_monthlymean_europe_1980-2022_0.25deg.nc', aggregate='mean')\n",
    "workflow('tempavg_dailymean', input_dir, 'tempavg_monthlydegreedays_europe_1980-2022_0.25deg.nc', aggregate='sum')\n",
    "\n",
    "workflow('tempmin_daily', input_dir, 'tempmin_monthlymean_europe_1980-2022_0.25deg.nc', aggregate='mean')\n",
    "workflow('tempmin_daily', input_dir, 'tempmin_monthlydegreedays_europe_1980-2022_0.25deg.nc', aggregate='sum')\n",
    "\n",
    "workflow('tempmax_daily', input_dir, 'tempmax_monthlymean_europe_1980-2022_0.25deg.nc', aggregate='mean')\n",
    "workflow('tempmax_daily', input_dir, 'tempmax_monthlydegreedays_europe_1980-2022_0.25deg.nc', aggregate='sum')"
   ]
  },
  {
   "cell_type": "code",
   "execution_count": null,
   "id": "b30ae2c0",
   "metadata": {},
   "outputs": [],
   "source": []
  },
  {
   "cell_type": "code",
   "execution_count": null,
   "id": "f32ec708",
   "metadata": {},
   "outputs": [],
   "source": []
  }
 ],
 "metadata": {
  "kernelspec": {
   "display_name": "Python 3 (ipykernel)",
   "language": "python",
   "name": "python3"
  },
  "language_info": {
   "codemirror_mode": {
    "name": "ipython",
    "version": 3
   },
   "file_extension": ".py",
   "mimetype": "text/x-python",
   "name": "python",
   "nbconvert_exporter": "python",
   "pygments_lexer": "ipython3",
   "version": "3.8.5"
  }
 },
 "nbformat": 4,
 "nbformat_minor": 5
}
