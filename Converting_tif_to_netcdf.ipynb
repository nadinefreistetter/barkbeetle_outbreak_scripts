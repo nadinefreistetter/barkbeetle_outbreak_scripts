{
 "cells": [
  {
   "cell_type": "markdown",
   "id": "3e943498",
   "metadata": {},
   "source": [
    "# Convert .TIF to .NC\n",
    "Converting tiff to netcdf files"
   ]
  },
  {
   "cell_type": "code",
   "execution_count": 2,
   "id": "3c4c0ec1",
   "metadata": {},
   "outputs": [],
   "source": [
    "import numpy as np\n",
    "import pandas as pd\n",
    "import matplotlib.pyplot as plt\n",
    "import datetime as dt\n",
    "import os\n",
    "import re\n",
    "import xarray as xr\n",
    "from osgeo import gdal as gd"
   ]
  },
  {
   "cell_type": "code",
   "execution_count": 26,
   "id": "7455d443",
   "metadata": {},
   "outputs": [],
   "source": [
    "root = 'C:/Users/freiste/OneDrive - Ilmatieteen laitos/Documents/IIASA YSSP 2023/02 - Data/EU/BOKU_ImprovedForestCharacteristics'"
   ]
  },
  {
   "cell_type": "code",
   "execution_count": 15,
   "id": "dc7a98ff",
   "metadata": {},
   "outputs": [],
   "source": [
    "# get all csv files inside a specific folder\n",
    "\n",
    "def show_all_files(input_dir, typ='csv'):\n",
    "\n",
    "    regexp = re.compile(fr\".{typ}\")\n",
    "    files  = [path.name for path in os.scandir(input_dir) if path.is_file() if regexp.search(path.name)]\n",
    "    \n",
    "    return files\n"
   ]
  },
  {
   "cell_type": "code",
   "execution_count": 31,
   "id": "b9939880",
   "metadata": {},
   "outputs": [],
   "source": [
    "subfolders = ['Age', 'Alive_Tree_Carbon', 'Basal_Area','Biomass','Diameter','Height','Stand_Density_Index','Stem_Number',\n",
    "              'Tree_Species_Group', 'Volume']\n",
    "\n",
    "for sub in subfolders:\n",
    "    \n",
    "    input_dir  = f\"{root}/{sub}\"\n",
    "    output_dir = input_dir\n",
    "    \n",
    "    files = show_all_files(input_dir, typ='tif')\n",
    "    \n",
    "    for file in files:\n",
    "        \n",
    "        inputfile  = file\n",
    "        outputfile = f\"{file[:-4]}.nc\"\n",
    "        \n",
    "        gd.Translate(f\"{output_dir}/{outputfile}\", f\"{input_dir}/{inputfile}\", format='NetCDF')\n",
    "        "
   ]
  },
  {
   "cell_type": "code",
   "execution_count": null,
   "id": "2ff43722",
   "metadata": {},
   "outputs": [],
   "source": []
  },
  {
   "cell_type": "code",
   "execution_count": null,
   "id": "2d9f1493",
   "metadata": {},
   "outputs": [],
   "source": []
  },
  {
   "cell_type": "code",
   "execution_count": null,
   "id": "d6144800",
   "metadata": {},
   "outputs": [],
   "source": []
  },
  {
   "cell_type": "code",
   "execution_count": null,
   "id": "bd14ddda",
   "metadata": {},
   "outputs": [],
   "source": []
  },
  {
   "cell_type": "code",
   "execution_count": null,
   "id": "5402c027",
   "metadata": {},
   "outputs": [],
   "source": []
  },
  {
   "cell_type": "code",
   "execution_count": null,
   "id": "1aa3e267",
   "metadata": {},
   "outputs": [],
   "source": [
    "ds = xr.open_dataset(f\"{output_dir}/{outputfile}\")"
   ]
  },
  {
   "cell_type": "code",
   "execution_count": null,
   "id": "3fae6b60",
   "metadata": {},
   "outputs": [],
   "source": [
    "ds"
   ]
  },
  {
   "cell_type": "code",
   "execution_count": null,
   "id": "f2dd4a84",
   "metadata": {},
   "outputs": [],
   "source": [
    "ds.Band1.plot()"
   ]
  },
  {
   "cell_type": "code",
   "execution_count": null,
   "id": "0076fb58",
   "metadata": {},
   "outputs": [],
   "source": []
  },
  {
   "cell_type": "code",
   "execution_count": null,
   "id": "4309ad40",
   "metadata": {},
   "outputs": [],
   "source": []
  },
  {
   "cell_type": "code",
   "execution_count": null,
   "id": "47e7446a",
   "metadata": {},
   "outputs": [],
   "source": []
  },
  {
   "cell_type": "code",
   "execution_count": null,
   "id": "53aa94da",
   "metadata": {},
   "outputs": [],
   "source": []
  },
  {
   "cell_type": "code",
   "execution_count": null,
   "id": "629cb25a",
   "metadata": {},
   "outputs": [],
   "source": []
  },
  {
   "cell_type": "code",
   "execution_count": null,
   "id": "9eee8130",
   "metadata": {},
   "outputs": [],
   "source": []
  }
 ],
 "metadata": {
  "kernelspec": {
   "display_name": "Python 3 (ipykernel)",
   "language": "python",
   "name": "python3"
  },
  "language_info": {
   "codemirror_mode": {
    "name": "ipython",
    "version": 3
   },
   "file_extension": ".py",
   "mimetype": "text/x-python",
   "name": "python",
   "nbconvert_exporter": "python",
   "pygments_lexer": "ipython3",
   "version": "3.8.5"
  }
 },
 "nbformat": 4,
 "nbformat_minor": 5
}
