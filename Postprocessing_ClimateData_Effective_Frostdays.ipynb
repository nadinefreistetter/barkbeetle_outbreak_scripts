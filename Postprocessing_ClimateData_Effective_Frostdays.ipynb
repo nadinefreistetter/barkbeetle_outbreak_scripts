{
 "cells": [
  {
   "cell_type": "markdown",
   "id": "7fe1fd7d",
   "metadata": {},
   "source": [
    "## Attention: might not be needed"
   ]
  },
  {
   "cell_type": "code",
   "execution_count": null,
   "id": "d0f2d969",
   "metadata": {},
   "outputs": [],
   "source": []
  },
  {
   "cell_type": "code",
   "execution_count": null,
   "id": "ea59d3f7",
   "metadata": {},
   "outputs": [],
   "source": []
  },
  {
   "cell_type": "markdown",
   "id": "8487c30b",
   "metadata": {},
   "source": [
    "##### \"Effective Frost Days\": takes into account the maximum temperature as well"
   ]
  },
  {
   "cell_type": "code",
   "execution_count": null,
   "id": "f2670073",
   "metadata": {},
   "outputs": [],
   "source": [
    "# Load tmin and tmax data here\n",
    "# ...\n"
   ]
  },
  {
   "cell_type": "code",
   "execution_count": null,
   "id": "ee508317",
   "metadata": {
    "scrolled": false
   },
   "outputs": [],
   "source": [
    "# effective frost day: below -15 degrees: 95% BB die, below 0 degrees: 50% BB die\n",
    "eff_frost = tmin + (tmax + tmin)"
   ]
  },
  {
   "cell_type": "code",
   "execution_count": null,
   "id": "3d2f4ec7",
   "metadata": {},
   "outputs": [],
   "source": [
    "# such index von '1980-11-01T00:00:00.000000000'\n",
    "# und index von '1981-03-31T00:00:00.000000000'\n",
    "tmin#.sel(time = '1980-11-01T00:00:00.000000000')"
   ]
  },
  {
   "cell_type": "code",
   "execution_count": null,
   "id": "d74e3f4b",
   "metadata": {},
   "outputs": [],
   "source": [
    "fig, axs = plt.subplots(1,2, figsize=(15,5), dpi=300)\n",
    "\n",
    "tmin.where(tmin < -15).isel(time=60).plot(ax=axs[0], vmin=-30, vmax=-10)\n",
    "tmax.where(tmax < -1 ).isel(time=60).plot(ax=axs[1], vmin=-30, vmax=0)\n",
    "#eff_frost.where(eff_frost < 0).isel(time=1).plot(ax=axs[1], vmin=-30, vmax=0)"
   ]
  },
  {
   "cell_type": "code",
   "execution_count": null,
   "id": "103c8ae6",
   "metadata": {},
   "outputs": [],
   "source": [
    "minavg = xr.open_dataset(f\"{obs_path}/tempmin_monthlymean_europe_1980-2022_0.25deg.nc\")\n",
    "minavg.close()\n",
    "minavg = minavg.tn"
   ]
  },
  {
   "cell_type": "code",
   "execution_count": null,
   "id": "15be662d",
   "metadata": {},
   "outputs": [],
   "source": [
    "maxavg = xr.open_dataset(f\"{obs_path}/tempmax_monthlymean_europe_1980-2022_0.25deg.nc\")\n",
    "maxavg.close()\n",
    "maxavg = maxavg.tx"
   ]
  },
  {
   "cell_type": "code",
   "execution_count": null,
   "id": "a1369c52",
   "metadata": {},
   "outputs": [],
   "source": [
    "# effective frost: below -15 degrees: 95% BB die, below 0 degrees: 50% BB die\n",
    "eff_frost = minavg + (maxavg+minavg)"
   ]
  },
  {
   "cell_type": "code",
   "execution_count": null,
   "id": "34ae7bb2",
   "metadata": {},
   "outputs": [],
   "source": [
    "eff_frost = eff_frost.where(eff_frost <= -15)"
   ]
  },
  {
   "cell_type": "code",
   "execution_count": null,
   "id": "0bbe1401",
   "metadata": {},
   "outputs": [],
   "source": [
    "# Frost days\n",
    "months = range(1,13)\n",
    "\n",
    "eff_frost.isel(time=(eff_frost.time.dt.month == 2)).where(eff_frost <= -25).isel(time=0).plot()\n",
    "\n"
   ]
  },
  {
   "cell_type": "code",
   "execution_count": null,
   "id": "22b0df6a",
   "metadata": {},
   "outputs": [],
   "source": []
  },
  {
   "cell_type": "code",
   "execution_count": null,
   "id": "6f74cb2c",
   "metadata": {},
   "outputs": [],
   "source": []
  },
  {
   "cell_type": "code",
   "execution_count": null,
   "id": "7b567e4c",
   "metadata": {},
   "outputs": [],
   "source": []
  },
  {
   "cell_type": "code",
   "execution_count": null,
   "id": "1fbb79e3",
   "metadata": {},
   "outputs": [],
   "source": []
  },
  {
   "cell_type": "code",
   "execution_count": null,
   "id": "c1b17e29",
   "metadata": {},
   "outputs": [],
   "source": []
  },
  {
   "cell_type": "code",
   "execution_count": null,
   "id": "4accdcdb",
   "metadata": {},
   "outputs": [],
   "source": []
  }
 ],
 "metadata": {
  "kernelspec": {
   "display_name": "Python 3 (ipykernel)",
   "language": "python",
   "name": "python3"
  },
  "language_info": {
   "codemirror_mode": {
    "name": "ipython",
    "version": 3
   },
   "file_extension": ".py",
   "mimetype": "text/x-python",
   "name": "python",
   "nbconvert_exporter": "python",
   "pygments_lexer": "ipython3",
   "version": "3.8.5"
  }
 },
 "nbformat": 4,
 "nbformat_minor": 5
}
