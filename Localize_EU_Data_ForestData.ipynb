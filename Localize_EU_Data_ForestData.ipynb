{
 "cells": [
  {
   "cell_type": "markdown",
   "metadata": {},
   "source": [
    "# LookUp Climate Data from EU xr.DataSets for Austrian Locations"
   ]
  },
  {
   "cell_type": "markdown",
   "metadata": {},
   "source": [
    "### Presettings"
   ]
  },
  {
   "cell_type": "code",
   "execution_count": 11,
   "metadata": {},
   "outputs": [],
   "source": [
    "import os\n",
    "import re\n",
    "import datetime as dt\n",
    "import numpy as np\n",
    "import pandas as pd\n",
    "import xarray as xr\n",
    "import matplotlib.pyplot as plt\n",
    "\n",
    "from scipy import stats"
   ]
  },
  {
   "cell_type": "code",
   "execution_count": 2,
   "metadata": {},
   "outputs": [],
   "source": [
    "root       = \"C:/Users/freiste/OneDrive - Ilmatieteen laitos/Documents/IIASA YSSP 2023\"\n",
    "\n",
    "input_dir  = f\"{root}/02 - Data/EU/BOKU_ImprovedForestCharacteristics\"\n",
    "output_dir = f\"{root}/02 - Data/AUT\"\n",
    "\n",
    "\n",
    "subfolders = [\n",
    "    \"Age\",\n",
    "    \"Alive_Tree_Carbon\",\n",
    "    \"Basal_Area\",\n",
    "    \"Biomass\",\n",
    "    \"Diameter\",\n",
    "    \"Height\",\n",
    "    \"Stand_Density_Index\",\n",
    "    \"Stem_Number\",\n",
    "    \"Tree_Species_Group\",\n",
    "    \"Volume\"\n",
    "    ]\n",
    "\n",
    "\n"
   ]
  },
  {
   "cell_type": "markdown",
   "metadata": {},
   "source": [
    "### Methods"
   ]
  },
  {
   "cell_type": "code",
   "execution_count": 8,
   "metadata": {},
   "outputs": [],
   "source": [
    "# get all certain-type files inside a specific folder\n",
    "\n",
    "def show_all_files(input_dir, typ='.csv'):\n",
    "\n",
    "    regexp = re.compile(fr\"{typ}\")\n",
    "    files  = [path.name for path in os.scandir(input_dir) if path.is_file() if regexp.search(path.name)]\n",
    "    \n",
    "    return files\n"
   ]
  },
  {
   "cell_type": "markdown",
   "metadata": {},
   "source": [
    "# Postprocessing"
   ]
  },
  {
   "cell_type": "markdown",
   "metadata": {},
   "source": [
    "### Create Skeleton"
   ]
  },
  {
   "cell_type": "code",
   "execution_count": 4,
   "metadata": {},
   "outputs": [],
   "source": [
    "# Begin from Geographical Details\n",
    "\n",
    "FS = pd.read_excel(f'{output_dir}/Data_Geography.xlsx')\n",
    "\n",
    "droplist = ['Area', 'Population','PopulationDensity', 'NumberOfMunicipalities',\n",
    "            'lat_center1','lon_center1', 'elev_center1', 'lat_center2', 'lon_center2',\n",
    "            'elev_center2', 'elev_center']\n",
    "FS.drop(columns=droplist, index=[0, 85], inplace=True)"
   ]
  },
  {
   "cell_type": "code",
   "execution_count": 6,
   "metadata": {},
   "outputs": [
    {
     "data": {
      "text/html": [
       "<div>\n",
       "<style scoped>\n",
       "    .dataframe tbody tr th:only-of-type {\n",
       "        vertical-align: middle;\n",
       "    }\n",
       "\n",
       "    .dataframe tbody tr th {\n",
       "        vertical-align: top;\n",
       "    }\n",
       "\n",
       "    .dataframe thead th {\n",
       "        text-align: right;\n",
       "    }\n",
       "</style>\n",
       "<table border=\"1\" class=\"dataframe\">\n",
       "  <thead>\n",
       "    <tr style=\"text-align: right;\">\n",
       "      <th></th>\n",
       "      <th>ForestryDistrict</th>\n",
       "      <th>FederalState</th>\n",
       "      <th>lat_center</th>\n",
       "      <th>lon_center</th>\n",
       "    </tr>\n",
       "  </thead>\n",
       "  <tbody>\n",
       "    <tr>\n",
       "      <th>1</th>\n",
       "      <td>Eisenstadt+Rust</td>\n",
       "      <td>Burgenland</td>\n",
       "      <td>47.82915</td>\n",
       "      <td>16.67885</td>\n",
       "    </tr>\n",
       "    <tr>\n",
       "      <th>2</th>\n",
       "      <td>Güssing</td>\n",
       "      <td>Burgenland</td>\n",
       "      <td>47.113836</td>\n",
       "      <td>16.320419</td>\n",
       "    </tr>\n",
       "    <tr>\n",
       "      <th>3</th>\n",
       "      <td>Jennersdorf</td>\n",
       "      <td>Burgenland</td>\n",
       "      <td>46.98195</td>\n",
       "      <td>16.197311</td>\n",
       "    </tr>\n",
       "    <tr>\n",
       "      <th>4</th>\n",
       "      <td>Mattersburg</td>\n",
       "      <td>Burgenland</td>\n",
       "      <td>47.728369</td>\n",
       "      <td>16.418644</td>\n",
       "    </tr>\n",
       "    <tr>\n",
       "      <th>5</th>\n",
       "      <td>Neusiedl/See</td>\n",
       "      <td>Burgenland</td>\n",
       "      <td>47.900129</td>\n",
       "      <td>16.951993</td>\n",
       "    </tr>\n",
       "    <tr>\n",
       "      <th>...</th>\n",
       "      <td>...</td>\n",
       "      <td>...</td>\n",
       "      <td>...</td>\n",
       "      <td>...</td>\n",
       "    </tr>\n",
       "    <tr>\n",
       "      <th>80</th>\n",
       "      <td>Bregenz</td>\n",
       "      <td>Vorarlberg</td>\n",
       "      <td>47.411097</td>\n",
       "      <td>9.937755</td>\n",
       "    </tr>\n",
       "    <tr>\n",
       "      <th>81</th>\n",
       "      <td>Dornbirn</td>\n",
       "      <td>Vorarlberg</td>\n",
       "      <td>47.416538</td>\n",
       "      <td>9.733014</td>\n",
       "    </tr>\n",
       "    <tr>\n",
       "      <th>82</th>\n",
       "      <td>Feldkirch</td>\n",
       "      <td>Vorarlberg</td>\n",
       "      <td>47.257412</td>\n",
       "      <td>9.664555</td>\n",
       "    </tr>\n",
       "    <tr>\n",
       "      <th>83</th>\n",
       "      <td>Vorarlberg</td>\n",
       "      <td>Vorarlberg_total</td>\n",
       "      <td>47.25</td>\n",
       "      <td>9.916667</td>\n",
       "    </tr>\n",
       "    <tr>\n",
       "      <th>84</th>\n",
       "      <td>Wien</td>\n",
       "      <td>Wien</td>\n",
       "      <td>48.208354</td>\n",
       "      <td>16.372504</td>\n",
       "    </tr>\n",
       "  </tbody>\n",
       "</table>\n",
       "<p>84 rows × 4 columns</p>\n",
       "</div>"
      ],
      "text/plain": [
       "   ForestryDistrict      FederalState lat_center lon_center\n",
       "1   Eisenstadt+Rust        Burgenland   47.82915   16.67885\n",
       "2           Güssing        Burgenland  47.113836  16.320419\n",
       "3       Jennersdorf        Burgenland   46.98195  16.197311\n",
       "4       Mattersburg        Burgenland  47.728369  16.418644\n",
       "5      Neusiedl/See        Burgenland  47.900129  16.951993\n",
       "..              ...               ...        ...        ...\n",
       "80          Bregenz        Vorarlberg  47.411097   9.937755\n",
       "81         Dornbirn        Vorarlberg  47.416538   9.733014\n",
       "82        Feldkirch        Vorarlberg  47.257412   9.664555\n",
       "83       Vorarlberg  Vorarlberg_total      47.25   9.916667\n",
       "84             Wien              Wien  48.208354  16.372504\n",
       "\n",
       "[84 rows x 4 columns]"
      ]
     },
     "execution_count": 6,
     "metadata": {},
     "output_type": "execute_result"
    }
   ],
   "source": [
    "# AUT Climate Table Skeleton\n",
    "skeleton_order = ['ForestryDistrict', 'FederalState', 'lat_center', 'lon_center']\n",
    "FS = FS[skeleton_order]\n",
    "FS"
   ]
  },
  {
   "cell_type": "markdown",
   "metadata": {},
   "source": [
    "## Look up data by lat & lon and write it into Skeleton"
   ]
  },
  {
   "cell_type": "code",
   "execution_count": null,
   "metadata": {},
   "outputs": [],
   "source": []
  },
  {
   "cell_type": "code",
   "execution_count": null,
   "metadata": {},
   "outputs": [],
   "source": []
  },
  {
   "cell_type": "code",
   "execution_count": null,
   "metadata": {},
   "outputs": [],
   "source": []
  },
  {
   "cell_type": "code",
   "execution_count": 28,
   "metadata": {},
   "outputs": [],
   "source": [
    "def lookup_coor_val(i):\n",
    "\n",
    "    val =\\\n",
    "    FSDS.sel(longitude = FS.lon_center[i],\n",
    "             latitude  = FS.lat_center[i],\n",
    "             method    = 'nearest').Band1.values\n",
    "\n",
    "    return val"
   ]
  },
  {
   "cell_type": "code",
   "execution_count": 29,
   "metadata": {},
   "outputs": [
    {
     "name": "stdout",
     "output_type": "stream",
     "text": [
      "agecl_1_perc_EPSG4326.nc\n"
     ]
    },
    {
     "ename": "KeyError",
     "evalue": "\"'longitude' is not a valid dimension or coordinate\"",
     "output_type": "error",
     "traceback": [
      "\u001b[1;31m---------------------------------------------------------------------------\u001b[0m",
      "\u001b[1;31mKeyError\u001b[0m                                  Traceback (most recent call last)",
      "Cell \u001b[1;32mIn[29], line 16\u001b[0m\n\u001b[0;32m     13\u001b[0m \u001b[39m# Add column of this variable to Skeleton\u001b[39;00m\n\u001b[0;32m     14\u001b[0m \u001b[39m# Lookup coordinates in the BOKU files\u001b[39;00m\n\u001b[0;32m     15\u001b[0m varname \u001b[39m=\u001b[39m re\u001b[39m.\u001b[39mfindall(\u001b[39m'\u001b[39m\u001b[39m(.+)_s?d?_?EPSG4326.nc\u001b[39m\u001b[39m'\u001b[39m, file)\n\u001b[1;32m---> 16\u001b[0m FS[varname] \u001b[39m=\u001b[39m FS\u001b[39m.\u001b[39;49mindex\u001b[39m.\u001b[39;49mmap(lookup_coor_val)\n",
      "File \u001b[1;32mc:\\Users\\freiste\\AppData\\Local\\anaconda3\\envs\\BarkBeats_Environment\\Lib\\site-packages\\pandas\\core\\indexes\\base.py:6161\u001b[0m, in \u001b[0;36mIndex.map\u001b[1;34m(self, mapper, na_action)\u001b[0m\n\u001b[0;32m   6141\u001b[0m \u001b[39m\u001b[39m\u001b[39m\"\"\"\u001b[39;00m\n\u001b[0;32m   6142\u001b[0m \u001b[39mMap values using an input mapping or function.\u001b[39;00m\n\u001b[0;32m   6143\u001b[0m \n\u001b[1;32m   (...)\u001b[0m\n\u001b[0;32m   6157\u001b[0m \u001b[39m    a MultiIndex will be returned.\u001b[39;00m\n\u001b[0;32m   6158\u001b[0m \u001b[39m\"\"\"\u001b[39;00m\n\u001b[0;32m   6159\u001b[0m \u001b[39mfrom\u001b[39;00m \u001b[39mpandas\u001b[39;00m\u001b[39m.\u001b[39;00m\u001b[39mcore\u001b[39;00m\u001b[39m.\u001b[39;00m\u001b[39mindexes\u001b[39;00m\u001b[39m.\u001b[39;00m\u001b[39mmulti\u001b[39;00m \u001b[39mimport\u001b[39;00m MultiIndex\n\u001b[1;32m-> 6161\u001b[0m new_values \u001b[39m=\u001b[39m \u001b[39mself\u001b[39;49m\u001b[39m.\u001b[39;49m_map_values(mapper, na_action\u001b[39m=\u001b[39;49mna_action)\n\u001b[0;32m   6163\u001b[0m \u001b[39m# we can return a MultiIndex\u001b[39;00m\n\u001b[0;32m   6164\u001b[0m \u001b[39mif\u001b[39;00m new_values\u001b[39m.\u001b[39msize \u001b[39mand\u001b[39;00m \u001b[39misinstance\u001b[39m(new_values[\u001b[39m0\u001b[39m], \u001b[39mtuple\u001b[39m):\n",
      "File \u001b[1;32mc:\\Users\\freiste\\AppData\\Local\\anaconda3\\envs\\BarkBeats_Environment\\Lib\\site-packages\\pandas\\core\\base.py:924\u001b[0m, in \u001b[0;36mIndexOpsMixin._map_values\u001b[1;34m(self, mapper, na_action)\u001b[0m\n\u001b[0;32m    921\u001b[0m         \u001b[39mraise\u001b[39;00m \u001b[39mValueError\u001b[39;00m(msg)\n\u001b[0;32m    923\u001b[0m \u001b[39m# mapper is a function\u001b[39;00m\n\u001b[1;32m--> 924\u001b[0m new_values \u001b[39m=\u001b[39m map_f(values, mapper)\n\u001b[0;32m    926\u001b[0m \u001b[39mreturn\u001b[39;00m new_values\n",
      "File \u001b[1;32mc:\\Users\\freiste\\AppData\\Local\\anaconda3\\envs\\BarkBeats_Environment\\Lib\\site-packages\\pandas\\_libs\\lib.pyx:2834\u001b[0m, in \u001b[0;36mpandas._libs.lib.map_infer\u001b[1;34m()\u001b[0m\n",
      "Cell \u001b[1;32mIn[28], line 4\u001b[0m, in \u001b[0;36mlookup_coor_val\u001b[1;34m(i)\u001b[0m\n\u001b[0;32m      1\u001b[0m \u001b[39mdef\u001b[39;00m \u001b[39mlookup_coor_val\u001b[39m(i):\n\u001b[0;32m      3\u001b[0m     val \u001b[39m=\u001b[39m\\\n\u001b[1;32m----> 4\u001b[0m     FSDS\u001b[39m.\u001b[39;49msel(longitude \u001b[39m=\u001b[39;49m FS\u001b[39m.\u001b[39;49mlon_center[i],\n\u001b[0;32m      5\u001b[0m              latitude  \u001b[39m=\u001b[39;49m FS\u001b[39m.\u001b[39;49mlat_center[i],\n\u001b[0;32m      6\u001b[0m              method    \u001b[39m=\u001b[39;49m \u001b[39m'\u001b[39;49m\u001b[39mnearest\u001b[39;49m\u001b[39m'\u001b[39;49m)\u001b[39m.\u001b[39mBand1\u001b[39m.\u001b[39mvalues\n\u001b[0;32m      8\u001b[0m     \u001b[39mreturn\u001b[39;00m val\n",
      "File \u001b[1;32mc:\\Users\\freiste\\AppData\\Local\\anaconda3\\envs\\BarkBeats_Environment\\Lib\\site-packages\\xarray\\core\\dataset.py:2794\u001b[0m, in \u001b[0;36mDataset.sel\u001b[1;34m(self, indexers, method, tolerance, drop, **indexers_kwargs)\u001b[0m\n\u001b[0;32m   2733\u001b[0m \u001b[39m\u001b[39m\u001b[39m\"\"\"Returns a new dataset with each array indexed by tick labels\u001b[39;00m\n\u001b[0;32m   2734\u001b[0m \u001b[39malong the specified dimension(s).\u001b[39;00m\n\u001b[0;32m   2735\u001b[0m \n\u001b[1;32m   (...)\u001b[0m\n\u001b[0;32m   2791\u001b[0m \u001b[39mDataArray.sel\u001b[39;00m\n\u001b[0;32m   2792\u001b[0m \u001b[39m\"\"\"\u001b[39;00m\n\u001b[0;32m   2793\u001b[0m indexers \u001b[39m=\u001b[39m either_dict_or_kwargs(indexers, indexers_kwargs, \u001b[39m\"\u001b[39m\u001b[39msel\u001b[39m\u001b[39m\"\u001b[39m)\n\u001b[1;32m-> 2794\u001b[0m query_results \u001b[39m=\u001b[39m map_index_queries(\n\u001b[0;32m   2795\u001b[0m     \u001b[39mself\u001b[39;49m, indexers\u001b[39m=\u001b[39;49mindexers, method\u001b[39m=\u001b[39;49mmethod, tolerance\u001b[39m=\u001b[39;49mtolerance\n\u001b[0;32m   2796\u001b[0m )\n\u001b[0;32m   2798\u001b[0m \u001b[39mif\u001b[39;00m drop:\n\u001b[0;32m   2799\u001b[0m     no_scalar_variables \u001b[39m=\u001b[39m {}\n",
      "File \u001b[1;32mc:\\Users\\freiste\\AppData\\Local\\anaconda3\\envs\\BarkBeats_Environment\\Lib\\site-packages\\xarray\\core\\indexing.py:182\u001b[0m, in \u001b[0;36mmap_index_queries\u001b[1;34m(obj, indexers, method, tolerance, **indexers_kwargs)\u001b[0m\n\u001b[0;32m    179\u001b[0m     options \u001b[39m=\u001b[39m {\u001b[39m\"\u001b[39m\u001b[39mmethod\u001b[39m\u001b[39m\"\u001b[39m: method, \u001b[39m\"\u001b[39m\u001b[39mtolerance\u001b[39m\u001b[39m\"\u001b[39m: tolerance}\n\u001b[0;32m    181\u001b[0m indexers \u001b[39m=\u001b[39m either_dict_or_kwargs(indexers, indexers_kwargs, \u001b[39m\"\u001b[39m\u001b[39mmap_index_queries\u001b[39m\u001b[39m\"\u001b[39m)\n\u001b[1;32m--> 182\u001b[0m grouped_indexers \u001b[39m=\u001b[39m group_indexers_by_index(obj, indexers, options)\n\u001b[0;32m    184\u001b[0m results \u001b[39m=\u001b[39m []\n\u001b[0;32m    185\u001b[0m \u001b[39mfor\u001b[39;00m index, labels \u001b[39min\u001b[39;00m grouped_indexers:\n",
      "File \u001b[1;32mc:\\Users\\freiste\\AppData\\Local\\anaconda3\\envs\\BarkBeats_Environment\\Lib\\site-packages\\xarray\\core\\indexing.py:146\u001b[0m, in \u001b[0;36mgroup_indexers_by_index\u001b[1;34m(obj, indexers, options)\u001b[0m\n\u001b[0;32m    144\u001b[0m     \u001b[39mraise\u001b[39;00m \u001b[39mKeyError\u001b[39;00m(\u001b[39mf\u001b[39m\u001b[39m\"\u001b[39m\u001b[39mno index found for coordinate \u001b[39m\u001b[39m{\u001b[39;00mkey\u001b[39m!r}\u001b[39;00m\u001b[39m\"\u001b[39m)\n\u001b[0;32m    145\u001b[0m \u001b[39melif\u001b[39;00m key \u001b[39mnot\u001b[39;00m \u001b[39min\u001b[39;00m obj\u001b[39m.\u001b[39mdims:\n\u001b[1;32m--> 146\u001b[0m     \u001b[39mraise\u001b[39;00m \u001b[39mKeyError\u001b[39;00m(\u001b[39mf\u001b[39m\u001b[39m\"\u001b[39m\u001b[39m{\u001b[39;00mkey\u001b[39m!r}\u001b[39;00m\u001b[39m is not a valid dimension or coordinate\u001b[39m\u001b[39m\"\u001b[39m)\n\u001b[0;32m    147\u001b[0m \u001b[39melif\u001b[39;00m \u001b[39mlen\u001b[39m(options):\n\u001b[0;32m    148\u001b[0m     \u001b[39mraise\u001b[39;00m \u001b[39mValueError\u001b[39;00m(\n\u001b[0;32m    149\u001b[0m         \u001b[39mf\u001b[39m\u001b[39m\"\u001b[39m\u001b[39mcannot supply selection options \u001b[39m\u001b[39m{\u001b[39;00moptions\u001b[39m!r}\u001b[39;00m\u001b[39m for dimension \u001b[39m\u001b[39m{\u001b[39;00mkey\u001b[39m!r}\u001b[39;00m\u001b[39m\"\u001b[39m\n\u001b[0;32m    150\u001b[0m         \u001b[39m\"\u001b[39m\u001b[39mthat has no associated coordinate or index\u001b[39m\u001b[39m\"\u001b[39m\n\u001b[0;32m    151\u001b[0m     )\n",
      "\u001b[1;31mKeyError\u001b[0m: \"'longitude' is not a valid dimension or coordinate\""
     ]
    }
   ],
   "source": [
    "for sub in subfolders:\n",
    "    \n",
    "    folder = f'{input_dir}/{sub}'\n",
    "    \n",
    "    files = show_all_files(folder, typ='_EPSG4326.nc')  # getting the right projection\n",
    "    \n",
    "    for file in files:\n",
    "        print(file)\n",
    "        \n",
    "        FSDS = xr.open_dataset(f\"{folder}/{file}\")\n",
    "        FSDS.close()\n",
    "        \n",
    "        # Add column of this variable to Skeleton\n",
    "        # Lookup coordinates in the BOKU files\n",
    "        varname = re.findall('(.+)_s?d?_?EPSG4326.nc', file)\n",
    "        FS[varname] = FS.index.map(lookup_coor_val)\n",
    "        \n",
    "        \n",
    "        \n",
    "        \n",
    "        "
   ]
  },
  {
   "cell_type": "code",
   "execution_count": 30,
   "metadata": {},
   "outputs": [
    {
     "data": {
      "text/html": [
       "<div>\n",
       "<style scoped>\n",
       "    .dataframe tbody tr th:only-of-type {\n",
       "        vertical-align: middle;\n",
       "    }\n",
       "\n",
       "    .dataframe tbody tr th {\n",
       "        vertical-align: top;\n",
       "    }\n",
       "\n",
       "    .dataframe thead th {\n",
       "        text-align: right;\n",
       "    }\n",
       "</style>\n",
       "<table border=\"1\" class=\"dataframe\">\n",
       "  <thead>\n",
       "    <tr style=\"text-align: right;\">\n",
       "      <th></th>\n",
       "      <th>ForestryDistrict</th>\n",
       "      <th>FederalState</th>\n",
       "      <th>lat_center</th>\n",
       "      <th>lon_center</th>\n",
       "    </tr>\n",
       "  </thead>\n",
       "  <tbody>\n",
       "    <tr>\n",
       "      <th>1</th>\n",
       "      <td>Eisenstadt+Rust</td>\n",
       "      <td>Burgenland</td>\n",
       "      <td>47.82915</td>\n",
       "      <td>16.67885</td>\n",
       "    </tr>\n",
       "    <tr>\n",
       "      <th>2</th>\n",
       "      <td>Güssing</td>\n",
       "      <td>Burgenland</td>\n",
       "      <td>47.113836</td>\n",
       "      <td>16.320419</td>\n",
       "    </tr>\n",
       "    <tr>\n",
       "      <th>3</th>\n",
       "      <td>Jennersdorf</td>\n",
       "      <td>Burgenland</td>\n",
       "      <td>46.98195</td>\n",
       "      <td>16.197311</td>\n",
       "    </tr>\n",
       "    <tr>\n",
       "      <th>4</th>\n",
       "      <td>Mattersburg</td>\n",
       "      <td>Burgenland</td>\n",
       "      <td>47.728369</td>\n",
       "      <td>16.418644</td>\n",
       "    </tr>\n",
       "    <tr>\n",
       "      <th>5</th>\n",
       "      <td>Neusiedl/See</td>\n",
       "      <td>Burgenland</td>\n",
       "      <td>47.900129</td>\n",
       "      <td>16.951993</td>\n",
       "    </tr>\n",
       "    <tr>\n",
       "      <th>...</th>\n",
       "      <td>...</td>\n",
       "      <td>...</td>\n",
       "      <td>...</td>\n",
       "      <td>...</td>\n",
       "    </tr>\n",
       "    <tr>\n",
       "      <th>80</th>\n",
       "      <td>Bregenz</td>\n",
       "      <td>Vorarlberg</td>\n",
       "      <td>47.411097</td>\n",
       "      <td>9.937755</td>\n",
       "    </tr>\n",
       "    <tr>\n",
       "      <th>81</th>\n",
       "      <td>Dornbirn</td>\n",
       "      <td>Vorarlberg</td>\n",
       "      <td>47.416538</td>\n",
       "      <td>9.733014</td>\n",
       "    </tr>\n",
       "    <tr>\n",
       "      <th>82</th>\n",
       "      <td>Feldkirch</td>\n",
       "      <td>Vorarlberg</td>\n",
       "      <td>47.257412</td>\n",
       "      <td>9.664555</td>\n",
       "    </tr>\n",
       "    <tr>\n",
       "      <th>83</th>\n",
       "      <td>Vorarlberg</td>\n",
       "      <td>Vorarlberg_total</td>\n",
       "      <td>47.25</td>\n",
       "      <td>9.916667</td>\n",
       "    </tr>\n",
       "    <tr>\n",
       "      <th>84</th>\n",
       "      <td>Wien</td>\n",
       "      <td>Wien</td>\n",
       "      <td>48.208354</td>\n",
       "      <td>16.372504</td>\n",
       "    </tr>\n",
       "  </tbody>\n",
       "</table>\n",
       "<p>84 rows × 4 columns</p>\n",
       "</div>"
      ],
      "text/plain": [
       "   ForestryDistrict      FederalState lat_center lon_center\n",
       "1   Eisenstadt+Rust        Burgenland   47.82915   16.67885\n",
       "2           Güssing        Burgenland  47.113836  16.320419\n",
       "3       Jennersdorf        Burgenland   46.98195  16.197311\n",
       "4       Mattersburg        Burgenland  47.728369  16.418644\n",
       "5      Neusiedl/See        Burgenland  47.900129  16.951993\n",
       "..              ...               ...        ...        ...\n",
       "80          Bregenz        Vorarlberg  47.411097   9.937755\n",
       "81         Dornbirn        Vorarlberg  47.416538   9.733014\n",
       "82        Feldkirch        Vorarlberg  47.257412   9.664555\n",
       "83       Vorarlberg  Vorarlberg_total      47.25   9.916667\n",
       "84             Wien              Wien  48.208354  16.372504\n",
       "\n",
       "[84 rows x 4 columns]"
      ]
     },
     "execution_count": 30,
     "metadata": {},
     "output_type": "execute_result"
    }
   ],
   "source": [
    "FS"
   ]
  },
  {
   "cell_type": "code",
   "execution_count": null,
   "metadata": {},
   "outputs": [],
   "source": []
  },
  {
   "cell_type": "code",
   "execution_count": null,
   "metadata": {},
   "outputs": [],
   "source": []
  },
  {
   "cell_type": "code",
   "execution_count": null,
   "metadata": {},
   "outputs": [],
   "source": []
  },
  {
   "cell_type": "code",
   "execution_count": null,
   "metadata": {},
   "outputs": [],
   "source": [
    "i = 2\n",
    "print(Geo.lon_center[i])\n",
    "print(Geo.lat_center[i])\n",
    "FSDS.sel(longitude= Geo.lon_center[i],\n",
    "         latitude = Geo.lat_center[i],\n",
    "         method='nearest').Band1#.values"
   ]
  },
  {
   "cell_type": "code",
   "execution_count": 26,
   "metadata": {},
   "outputs": [
    {
     "data": {
      "text/plain": [
       "['agecl_3_perc_sd']"
      ]
     },
     "execution_count": 26,
     "metadata": {},
     "output_type": "execute_result"
    }
   ],
   "source": [
    "s = 'agecl_3_perc_sd_EPSG4326.nc'\n",
    "varname = re.findall('(.+)_s?d?_?EPSG4326.nc', s)\n",
    "varname"
   ]
  },
  {
   "cell_type": "code",
   "execution_count": null,
   "metadata": {},
   "outputs": [],
   "source": []
  }
 ],
 "metadata": {
  "kernelspec": {
   "display_name": "base",
   "language": "python",
   "name": "python3"
  },
  "language_info": {
   "codemirror_mode": {
    "name": "ipython",
    "version": 3
   },
   "file_extension": ".py",
   "mimetype": "text/x-python",
   "name": "python",
   "nbconvert_exporter": "python",
   "pygments_lexer": "ipython3",
   "version": "3.11.4"
  },
  "orig_nbformat": 4
 },
 "nbformat": 4,
 "nbformat_minor": 2
}
