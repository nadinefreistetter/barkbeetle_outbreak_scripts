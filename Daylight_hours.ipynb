{
 "cells": [
  {
   "cell_type": "markdown",
   "id": "8a4c86b3",
   "metadata": {},
   "source": [
    "## Length of Day\n",
    "\n",
    "BB needs > 14.5 h daylength!!\n"
   ]
  },
  {
   "cell_type": "markdown",
   "id": "4d12a10f",
   "metadata": {},
   "source": [
    "### Presettings"
   ]
  },
  {
   "cell_type": "code",
   "execution_count": null,
   "id": "d0b13c56",
   "metadata": {},
   "outputs": [],
   "source": [
    "import numpy as np\n",
    "import pandas as pd\n",
    "import matplotlib.pyplot as plt\n",
    "import datetime as dt\n",
    "import os\n",
    "import re\n",
    "\n",
    "import xarray as xr\n",
    "#import cartopy.crs as ccrs"
   ]
  },
  {
   "cell_type": "code",
   "execution_count": null,
   "id": "45611f5b",
   "metadata": {},
   "outputs": [],
   "source": [
    "# All directories\n",
    "root       = \"C:/Users/freiste/OneDrive - Ilmatieteen laitos/Documents/IIASA YSSP 2023\"\n",
    "this_dir   =  os.getcwd()\n",
    "\n",
    "input_dir  = f\"{root}/02 - Data/EU/Copernicus_E-OBS_Weather_Original\" # to save space, not all data might be there anymore\n",
    "output_dir = f\"{root}/02 - Data/EU/Copernicus_E-OBS_Weather_Postprocessed\""
   ]
  },
  {
   "cell_type": "code",
   "execution_count": null,
   "id": "1d075e4e",
   "metadata": {},
   "outputs": [],
   "source": []
  },
  {
   "cell_type": "markdown",
   "id": "51699f94",
   "metadata": {},
   "source": [
    "### Methods"
   ]
  },
  {
   "cell_type": "code",
   "execution_count": null,
   "id": "5a963dc4",
   "metadata": {},
   "outputs": [],
   "source": [
    "# Source: https://gist.github.com/anttilipp/ed3ab35258c7636d87de6499475301ce\n",
    "\n",
    "def daylength(dayOfYear, lat):\n",
    "    \"\"\"Computes the length of the day (the time between sunrise and\n",
    "    sunset) given the day of the year and latitude of the location.\n",
    "    Function uses the Brock model for the computations.\n",
    "    For more information see, for example,\n",
    "    Forsythe et al., \"A model comparison for daylength as a\n",
    "    function of latitude and day of year\", Ecological Modelling,\n",
    "    1995.\n",
    "\n",
    "    Parameters\n",
    "    ----------\n",
    "    dayOfYear : int\n",
    "        The day of the year. 1 corresponds to 1st of January\n",
    "        and 365 to 31st December (on a non-leap year).\n",
    "    lat : float\n",
    "        Latitude of the location in degrees. Positive values\n",
    "        for north and negative for south.\n",
    "\n",
    "    Returns\n",
    "    -------\n",
    "    d : float\n",
    "        Daylength in hours.\n",
    "    \"\"\"\n",
    "    \n",
    "    latInRad = np.deg2rad(lat)\n",
    "    \n",
    "    declinationOfEarth = 23.45*np.sin(np.deg2rad(360.0*(283.0+dayOfYear)/365.0))\n",
    "    \n",
    "    if -np.tan(latInRad) * np.tan(np.deg2rad(declinationOfEarth)) <= -1.0:\n",
    "        return 24.0\n",
    "    \n",
    "    elif -np.tan(latInRad) * np.tan(np.deg2rad(declinationOfEarth)) >= 1.0:\n",
    "        return 0.0\n",
    "    \n",
    "    else:\n",
    "        hourAngle = np.rad2deg(np.arccos(-np.tan(latInRad) * np.tan(np.deg2rad(declinationOfEarth))))\n",
    "        return 2.0*hourAngle/15.0\n"
   ]
  },
  {
   "cell_type": "code",
   "execution_count": null,
   "id": "e79b6390",
   "metadata": {},
   "outputs": [],
   "source": []
  },
  {
   "cell_type": "markdown",
   "id": "c5f78451",
   "metadata": {},
   "source": [
    "# Execution"
   ]
  },
  {
   "cell_type": "code",
   "execution_count": null,
   "id": "384fbd3d",
   "metadata": {},
   "outputs": [],
   "source": [
    "# use a dummy dataset to get latitudes of the copernicus data\n",
    "dummy = xr.open_dataset(f\"{obs_path}/tempavg_dailymean_1980-1994_0.25deg.nc\")\n",
    "dummy.close()\n",
    "dummylat = maxgen.latitude.values\n",
    "del dummy"
   ]
  },
  {
   "cell_type": "code",
   "execution_count": null,
   "id": "031fdc83",
   "metadata": {},
   "outputs": [],
   "source": [
    "# generate times for when to check length of day (beginning and end of each month) according to latitude\n",
    "timestamp = []\n",
    "dayOfYear = []\n",
    "\n",
    "for y in range(1980,2023):\n",
    "    for m in range (1,13):\n",
    "        for d in range(1, pd.Timestamp(y, m, 1).daysinmonth):\n",
    "        \n",
    "            timestamp.append(pd.Timestamp(y, m, d))\n",
    "            dayOfYear.append(pd.Timestamp(y, m, d).dayofyear)\n",
    "                    \n",
    "# check all these times for every lat"
   ]
  },
  {
   "cell_type": "code",
   "execution_count": null,
   "id": "a750c75b",
   "metadata": {},
   "outputs": [],
   "source": [
    "# generate data\n",
    "dat = []\n",
    "for lat in dummylat:\n",
    "    \n",
    "        subdat = [daylength(DoY, lat) for DoY in dayOfYear]\n",
    "        dat.append(subdat)\n",
    "        \n",
    "dat = np.array(dat)"
   ]
  },
  {
   "cell_type": "code",
   "execution_count": null,
   "id": "bce453e5",
   "metadata": {},
   "outputs": [],
   "source": [
    "# generate dataarray\n",
    "da = xr.DataArray(\n",
    "\n",
    "    data  = dat,\n",
    "\n",
    "    dims  = [\"latitude\", \"time\"],\n",
    "\n",
    "    coords= dict(\n",
    "        latitude = dummylat,\n",
    "        time     = timestamp,\n",
    "    )\n",
    ")\n",
    "\n",
    "da = da.to_dataset(name='daylength')\n",
    "da = da.assign_attrs(dict(description=\"length of day for middle of each month depending on latitude\",\n",
    "                     units=\"hours\"))\n",
    "\n",
    "del dat\n",
    "da\n",
    "#da.daylength.isel(latitude=100).isel(time=slice(0,11)).plot()"
   ]
  },
  {
   "cell_type": "code",
   "execution_count": null,
   "id": "cbd75d3f",
   "metadata": {},
   "outputs": [],
   "source": [
    "# Export\n",
    "da.to_netcdf(f\"{obs_path}/daylight_daily_europe_1980-2022_0.25deg.nc\")"
   ]
  },
  {
   "cell_type": "code",
   "execution_count": null,
   "id": "43986bd5",
   "metadata": {},
   "outputs": [],
   "source": [
    "# Sammple Lat & long von Bezirksmitte\n",
    "# Zuerst muss ich wissen, WO ist der Fichtenwald?"
   ]
  },
  {
   "cell_type": "code",
   "execution_count": null,
   "id": "32f0a6b7",
   "metadata": {},
   "outputs": [],
   "source": []
  },
  {
   "cell_type": "code",
   "execution_count": null,
   "id": "3f9e4085",
   "metadata": {},
   "outputs": [],
   "source": []
  },
  {
   "cell_type": "code",
   "execution_count": null,
   "id": "dfa65910",
   "metadata": {},
   "outputs": [],
   "source": []
  },
  {
   "cell_type": "code",
   "execution_count": null,
   "id": "762f0e64",
   "metadata": {},
   "outputs": [],
   "source": []
  }
 ],
 "metadata": {
  "kernelspec": {
   "display_name": "Python 3 (ipykernel)",
   "language": "python",
   "name": "python3"
  },
  "language_info": {
   "codemirror_mode": {
    "name": "ipython",
    "version": 3
   },
   "file_extension": ".py",
   "mimetype": "text/x-python",
   "name": "python",
   "nbconvert_exporter": "python",
   "pygments_lexer": "ipython3",
   "version": "3.8.5"
  }
 },
 "nbformat": 4,
 "nbformat_minor": 5
}
